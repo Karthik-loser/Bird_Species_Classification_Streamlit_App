{
 "cells": [
  {
   "cell_type": "code",
   "execution_count": 1,
   "metadata": {
    "execution": {
     "iopub.execute_input": "2021-05-26T13:32:00.184477Z",
     "iopub.status.busy": "2021-05-26T13:32:00.184072Z",
     "iopub.status.idle": "2021-05-26T13:32:00.191396Z",
     "shell.execute_reply": "2021-05-26T13:32:00.190497Z",
     "shell.execute_reply.started": "2021-05-26T13:32:00.184419Z"
    }
   },
   "outputs": [],
   "source": [
    "from keras.layers import Input, Lambda, Dense, Flatten\n",
    "from keras.models import Model\n",
    "from keras.applications.vgg16 import VGG16\n",
    "from keras.applications.vgg16 import preprocess_input\n",
    "from keras.preprocessing import image\n",
    "from keras.preprocessing.image import ImageDataGenerator\n",
    "from keras.models import Sequential\n",
    "import numpy as np\n",
    "from glob import glob\n",
    "import matplotlib.pyplot as plt"
   ]
  },
  {
   "cell_type": "code",
   "execution_count": 2,
   "metadata": {
    "execution": {
     "iopub.execute_input": "2021-05-26T13:32:00.312658Z",
     "iopub.status.busy": "2021-05-26T13:32:00.312363Z",
     "iopub.status.idle": "2021-05-26T13:32:00.316624Z",
     "shell.execute_reply": "2021-05-26T13:32:00.315700Z",
     "shell.execute_reply.started": "2021-05-26T13:32:00.312631Z"
    }
   },
   "outputs": [],
   "source": [
    "IMAGE_SIZE = [224, 224]"
   ]
  },
  {
   "cell_type": "code",
   "execution_count": 3,
   "metadata": {
    "execution": {
     "iopub.execute_input": "2021-05-26T13:32:00.445258Z",
     "iopub.status.busy": "2021-05-26T13:32:00.444958Z",
     "iopub.status.idle": "2021-05-26T13:32:00.449414Z",
     "shell.execute_reply": "2021-05-26T13:32:00.448323Z",
     "shell.execute_reply.started": "2021-05-26T13:32:00.445228Z"
    }
   },
   "outputs": [],
   "source": [
    "train_directory='./dataset/train'\n",
    "test_directory='./dataset/test'\n",
    "val_directory='./dataset/valid'"
   ]
  },
  {
   "cell_type": "code",
   "execution_count": 4,
   "metadata": {
    "execution": {
     "iopub.execute_input": "2021-05-26T13:32:00.561995Z",
     "iopub.status.busy": "2021-05-26T13:32:00.561708Z",
     "iopub.status.idle": "2021-05-26T13:32:01.698164Z",
     "shell.execute_reply": "2021-05-26T13:32:01.697381Z",
     "shell.execute_reply.started": "2021-05-26T13:32:00.561967Z"
    }
   },
   "outputs": [],
   "source": [
    "# add preprocessing layer to the front of VGG\n",
    "vgg = VGG16(input_shape=IMAGE_SIZE + [3], weights='imagenet', include_top=False)\n",
    "\n",
    "# don't train existing weights\n",
    "for layer in vgg.layers:\n",
    "  layer.trainable = False"
   ]
  },
  {
   "cell_type": "code",
   "execution_count": 26,
   "metadata": {
    "execution": {
     "iopub.execute_input": "2021-05-26T13:32:01.701359Z",
     "iopub.status.busy": "2021-05-26T13:32:01.700836Z",
     "iopub.status.idle": "2021-05-26T13:32:01.711256Z",
     "shell.execute_reply": "2021-05-26T13:32:01.710289Z",
     "shell.execute_reply.started": "2021-05-26T13:32:01.701318Z"
    }
   },
   "outputs": [
    {
     "ename": "SyntaxError",
     "evalue": "unexpected character after line continuation character (2760830122.py, line 3)",
     "output_type": "error",
     "traceback": [
      "\u001b[1;36m  Cell \u001b[1;32mIn[26], line 3\u001b[1;36m\u001b[0m\n\u001b[1;33m    print(folders[0].split(\\))\u001b[0m\n\u001b[1;37m                            ^\u001b[0m\n\u001b[1;31mSyntaxError\u001b[0m\u001b[1;31m:\u001b[0m unexpected character after line continuation character\n"
     ]
    }
   ],
   "source": [
    "  # useful for getting number of classes\n",
    "folders = glob('./dataset/train/*')\n",
    "print(folders[0].split(\\))\n",
    "len(folders)"
   ]
  },
  {
   "cell_type": "code",
   "execution_count": 6,
   "metadata": {
    "execution": {
     "iopub.execute_input": "2021-05-26T13:32:01.713556Z",
     "iopub.status.busy": "2021-05-26T13:32:01.713189Z",
     "iopub.status.idle": "2021-05-26T13:32:01.730224Z",
     "shell.execute_reply": "2021-05-26T13:32:01.729472Z",
     "shell.execute_reply.started": "2021-05-26T13:32:01.713517Z"
    }
   },
   "outputs": [],
   "source": [
    "# our layers - you can add more if you want\n",
    "x = Flatten()(vgg.output)\n",
    "# x = Dense(1000, activation='relu')(x)\n",
    "prediction = Dense(len(folders), activation='softmax')(x)"
   ]
  },
  {
   "cell_type": "code",
   "execution_count": 7,
   "metadata": {
    "execution": {
     "iopub.execute_input": "2021-05-26T13:32:01.733185Z",
     "iopub.status.busy": "2021-05-26T13:32:01.732946Z",
     "iopub.status.idle": "2021-05-26T13:32:01.756522Z",
     "shell.execute_reply": "2021-05-26T13:32:01.755692Z",
     "shell.execute_reply.started": "2021-05-26T13:32:01.733161Z"
    }
   },
   "outputs": [
    {
     "name": "stdout",
     "output_type": "stream",
     "text": [
      "Model: \"model\"\n",
      "_________________________________________________________________\n",
      " Layer (type)                Output Shape              Param #   \n",
      "=================================================================\n",
      " input_1 (InputLayer)        [(None, 224, 224, 3)]     0         \n",
      "                                                                 \n",
      " block1_conv1 (Conv2D)       (None, 224, 224, 64)      1792      \n",
      "                                                                 \n",
      " block1_conv2 (Conv2D)       (None, 224, 224, 64)      36928     \n",
      "                                                                 \n",
      " block1_pool (MaxPooling2D)  (None, 112, 112, 64)      0         \n",
      "                                                                 \n",
      " block2_conv1 (Conv2D)       (None, 112, 112, 128)     73856     \n",
      "                                                                 \n",
      " block2_conv2 (Conv2D)       (None, 112, 112, 128)     147584    \n",
      "                                                                 \n",
      " block2_pool (MaxPooling2D)  (None, 56, 56, 128)       0         \n",
      "                                                                 \n",
      " block3_conv1 (Conv2D)       (None, 56, 56, 256)       295168    \n",
      "                                                                 \n",
      " block3_conv2 (Conv2D)       (None, 56, 56, 256)       590080    \n",
      "                                                                 \n",
      " block3_conv3 (Conv2D)       (None, 56, 56, 256)       590080    \n",
      "                                                                 \n",
      " block3_pool (MaxPooling2D)  (None, 28, 28, 256)       0         \n",
      "                                                                 \n",
      " block4_conv1 (Conv2D)       (None, 28, 28, 512)       1180160   \n",
      "                                                                 \n",
      " block4_conv2 (Conv2D)       (None, 28, 28, 512)       2359808   \n",
      "                                                                 \n",
      " block4_conv3 (Conv2D)       (None, 28, 28, 512)       2359808   \n",
      "                                                                 \n",
      " block4_pool (MaxPooling2D)  (None, 14, 14, 512)       0         \n",
      "                                                                 \n",
      " block5_conv1 (Conv2D)       (None, 14, 14, 512)       2359808   \n",
      "                                                                 \n",
      " block5_conv2 (Conv2D)       (None, 14, 14, 512)       2359808   \n",
      "                                                                 \n",
      " block5_conv3 (Conv2D)       (None, 14, 14, 512)       2359808   \n",
      "                                                                 \n",
      " block5_pool (MaxPooling2D)  (None, 7, 7, 512)         0         \n",
      "                                                                 \n",
      " flatten (Flatten)           (None, 25088)             0         \n",
      "                                                                 \n",
      " dense (Dense)               (None, 525)               13171725  \n",
      "                                                                 \n",
      "=================================================================\n",
      "Total params: 27,886,413\n",
      "Trainable params: 13,171,725\n",
      "Non-trainable params: 14,714,688\n",
      "_________________________________________________________________\n"
     ]
    }
   ],
   "source": [
    "# create a model object\n",
    "model = Model(inputs=vgg.input, outputs=prediction)\n",
    "\n",
    "# view the structure of the model\n",
    "model.summary()"
   ]
  },
  {
   "cell_type": "code",
   "execution_count": 8,
   "metadata": {
    "execution": {
     "iopub.execute_input": "2021-05-26T13:32:01.761330Z",
     "iopub.status.busy": "2021-05-26T13:32:01.761093Z",
     "iopub.status.idle": "2021-05-26T13:32:01.775313Z",
     "shell.execute_reply": "2021-05-26T13:32:01.774260Z",
     "shell.execute_reply.started": "2021-05-26T13:32:01.761301Z"
    }
   },
   "outputs": [],
   "source": [
    "model.compile(\n",
    "  loss='categorical_crossentropy',\n",
    "  optimizer='adam',\n",
    "  metrics=['accuracy']\n",
    ")"
   ]
  },
  {
   "cell_type": "code",
   "execution_count": 9,
   "metadata": {
    "execution": {
     "iopub.execute_input": "2021-05-26T13:32:01.777072Z",
     "iopub.status.busy": "2021-05-26T13:32:01.776648Z",
     "iopub.status.idle": "2021-05-26T13:32:04.433665Z",
     "shell.execute_reply": "2021-05-26T13:32:04.432336Z",
     "shell.execute_reply.started": "2021-05-26T13:32:01.777034Z"
    }
   },
   "outputs": [
    {
     "name": "stdout",
     "output_type": "stream",
     "text": [
      "Found 84635 images belonging to 525 classes.\n",
      "Found 2625 images belonging to 525 classes.\n"
     ]
    }
   ],
   "source": [
    "from keras.preprocessing.image import ImageDataGenerator\n",
    "\n",
    "train_datagen = ImageDataGenerator(rescale = 1./255,\n",
    "                                   shear_range = 0.2,\n",
    "                                   zoom_range = 0.2,\n",
    "                                   horizontal_flip = True)\n",
    "\n",
    "test_datagen = ImageDataGenerator(rescale = 1./255)\n",
    "\n",
    "training_set = train_datagen.flow_from_directory(train_directory,\n",
    "                                                 target_size = (224, 224),\n",
    "                                                 batch_size = 32,\n",
    "                                                 class_mode = 'categorical')\n",
    "\n",
    "test_set = test_datagen.flow_from_directory(test_directory,\n",
    "                                            target_size = (224, 224),\n",
    "                                            batch_size = 32,\n",
    "                                            class_mode = 'categorical')"
   ]
  },
  {
   "cell_type": "code",
   "execution_count": 10,
   "metadata": {
    "execution": {
     "iopub.execute_input": "2021-05-26T13:32:04.435666Z",
     "iopub.status.busy": "2021-05-26T13:32:04.435390Z",
     "iopub.status.idle": "2021-05-26T13:32:04.444784Z",
     "shell.execute_reply": "2021-05-26T13:32:04.444037Z",
     "shell.execute_reply.started": "2021-05-26T13:32:04.435640Z"
    }
   },
   "outputs": [
    {
     "name": "stdout",
     "output_type": "stream",
     "text": [
      "2645\n",
      "83\n"
     ]
    }
   ],
   "source": [
    "print(len(training_set))\n",
    "print(len(test_set))"
   ]
  },
  {
   "cell_type": "code",
   "execution_count": null,
   "metadata": {
    "execution": {
     "iopub.execute_input": "2021-05-26T13:32:04.448406Z",
     "iopub.status.busy": "2021-05-26T13:32:04.448135Z",
     "iopub.status.idle": "2021-05-26T14:11:57.282267Z",
     "shell.execute_reply": "2021-05-26T14:11:57.281413Z",
     "shell.execute_reply.started": "2021-05-26T13:32:04.448379Z"
    }
   },
   "outputs": [
    {
     "name": "stdout",
     "output_type": "stream",
     "text": [
      "WARNING:tensorflow:From <ipython-input-11-89113a27acbd>:6: Model.fit_generator (from tensorflow.python.keras.engine.training) is deprecated and will be removed in a future version.\n",
      "Instructions for updating:\n",
      "Please use Model.fit, which supports generators.\n",
      "Epoch 1/5\n",
      "1084/2645 [===========>..................] - ETA: 7:22:55 - loss: 7.2460 - accuracy: 0.2189"
     ]
    }
   ],
   "source": [
    "r = model.fit_generator(\n",
    "  training_set,\n",
    "  validation_data=test_set,\n",
    "  epochs=5,\n",
    "  steps_per_epoch=len(training_set),\n",
    "  validation_steps=len(test_set)\n",
    ")"
   ]
  },
  {
   "cell_type": "code",
   "execution_count": null,
   "metadata": {
    "execution": {
     "iopub.execute_input": "2021-05-26T14:11:57.285323Z",
     "iopub.status.busy": "2021-05-26T14:11:57.284949Z",
     "iopub.status.idle": "2021-05-26T14:11:57.458428Z",
     "shell.execute_reply": "2021-05-26T14:11:57.457551Z",
     "shell.execute_reply.started": "2021-05-26T14:11:57.285281Z"
    }
   },
   "outputs": [],
   "source": [
    "# loss\n",
    "plt.plot(r.history['loss'], label='train loss')\n",
    "plt.plot(r.history['val_loss'], label='val loss')\n",
    "plt.legend()\n",
    "plt.show()"
   ]
  },
  {
   "cell_type": "code",
   "execution_count": null,
   "metadata": {
    "execution": {
     "iopub.execute_input": "2021-05-26T14:11:57.461011Z",
     "iopub.status.busy": "2021-05-26T14:11:57.460645Z",
     "iopub.status.idle": "2021-05-26T14:11:57.603986Z",
     "shell.execute_reply": "2021-05-26T14:11:57.603034Z",
     "shell.execute_reply.started": "2021-05-26T14:11:57.460972Z"
    }
   },
   "outputs": [],
   "source": [
    "# accuracies\n",
    "plt.plot(r.history['accuracy'], label='train acc')\n",
    "plt.plot(r.history['val_accuracy'], label='val acc')\n",
    "plt.legend()\n",
    "plt.show()"
   ]
  },
  {
   "cell_type": "code",
   "execution_count": null,
   "metadata": {
    "execution": {
     "iopub.execute_input": "2021-05-26T14:11:57.606129Z",
     "iopub.status.busy": "2021-05-26T14:11:57.605644Z",
     "iopub.status.idle": "2021-05-26T14:11:57.847809Z",
     "shell.execute_reply": "2021-05-26T14:11:57.847009Z",
     "shell.execute_reply.started": "2021-05-26T14:11:57.606088Z"
    }
   },
   "outputs": [],
   "source": [
    "model.save('BC.h5')"
   ]
  },
  {
   "cell_type": "code",
   "execution_count": null,
   "metadata": {
    "execution": {
     "iopub.execute_input": "2021-05-26T14:13:52.680658Z",
     "iopub.status.busy": "2021-05-26T14:13:52.680310Z",
     "iopub.status.idle": "2021-05-26T14:13:52.869997Z",
     "shell.execute_reply": "2021-05-26T14:13:52.869245Z",
     "shell.execute_reply.started": "2021-05-26T14:13:52.680629Z"
    }
   },
   "outputs": [],
   "source": [
    "from keras.models import load_model\n",
    "from keras.preprocessing.image import load_img,img_to_array\n",
    "\n",
    "model1 = load_model('./BC.h5',compile=False)  "
   ]
  },
  {
   "cell_type": "code",
   "execution_count": null,
   "metadata": {
    "execution": {
     "iopub.execute_input": "2021-05-26T14:13:52.889997Z",
     "iopub.status.busy": "2021-05-26T14:13:52.889729Z",
     "iopub.status.idle": "2021-05-26T14:13:52.894911Z",
     "shell.execute_reply": "2021-05-26T14:13:52.893804Z",
     "shell.execute_reply.started": "2021-05-26T14:13:52.889971Z"
    }
   },
   "outputs": [],
   "source": [
    "lab = training_set.class_indices\n",
    "lab={k:v for v,k in lab.items()}"
   ]
  },
  {
   "cell_type": "code",
   "execution_count": null,
   "metadata": {
    "execution": {
     "iopub.execute_input": "2021-05-26T14:13:53.139284Z",
     "iopub.status.busy": "2021-05-26T14:13:53.138953Z",
     "iopub.status.idle": "2021-05-26T14:13:53.146092Z",
     "shell.execute_reply": "2021-05-26T14:13:53.144934Z",
     "shell.execute_reply.started": "2021-05-26T14:13:53.139253Z"
    }
   },
   "outputs": [],
   "source": [
    "def output(location):\n",
    "    img=load_img(location,target_size=(224,224,3))\n",
    "    img=img_to_array(img)\n",
    "    img=img/255\n",
    "    img=np.expand_dims(img,[0])\n",
    "    answer=model1.predict(img)\n",
    "    y_class = answer.argmax(axis=-1)\n",
    "    y = \" \".join(str(x) for x in y_class)\n",
    "    y = int(y)\n",
    "    res = lab[y]\n",
    "    return res"
   ]
  },
  {
   "cell_type": "code",
   "execution_count": null,
   "metadata": {
    "execution": {
     "iopub.execute_input": "2021-05-26T14:13:53.362985Z",
     "iopub.status.busy": "2021-05-26T14:13:53.362666Z",
     "iopub.status.idle": "2021-05-26T14:13:53.873694Z",
     "shell.execute_reply": "2021-05-26T14:13:53.872829Z",
     "shell.execute_reply.started": "2021-05-26T14:13:53.362955Z"
    }
   },
   "outputs": [],
   "source": [
    "img='../input/100-bird-species/valid/BARN OWL/1.jpg'\n",
    "pic=load_img('../input/100-bird-species/valid/BARN OWL/1.jpg',target_size=(224,224,3))\n",
    "plt.imshow(pic)\n",
    "output(img)"
   ]
  },
  {
   "cell_type": "code",
   "execution_count": null,
   "metadata": {
    "execution": {
     "iopub.execute_input": "2021-05-26T14:13:53.875689Z",
     "iopub.status.busy": "2021-05-26T14:13:53.875311Z",
     "iopub.status.idle": "2021-05-26T14:13:53.880523Z",
     "shell.execute_reply": "2021-05-26T14:13:53.879632Z",
     "shell.execute_reply.started": "2021-05-26T14:13:53.875650Z"
    }
   },
   "outputs": [],
   "source": [
    "import tensorflow as tf\n",
    "import keras as k\n",
    "print(tf.__version__)\n",
    "print(k.__version__)"
   ]
  },
  {
   "cell_type": "code",
   "execution_count": null,
   "metadata": {},
   "outputs": [],
   "source": []
  }
 ],
 "metadata": {
  "kernelspec": {
   "display_name": "Python 3 (ipykernel)",
   "language": "python",
   "name": "python3"
  },
  "language_info": {
   "codemirror_mode": {
    "name": "ipython",
    "version": 3
   },
   "file_extension": ".py",
   "mimetype": "text/x-python",
   "name": "python",
   "nbconvert_exporter": "python",
   "pygments_lexer": "ipython3",
   "version": "3.10.9"
  }
 },
 "nbformat": 4,
 "nbformat_minor": 4
}
